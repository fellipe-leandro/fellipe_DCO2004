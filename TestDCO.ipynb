{
 "cells": [
  {
   "cell_type": "markdown",
   "metadata": {},
   "source": [
    "# Exercício da prática 01\n"
   ]
  },
  {
   "cell_type": "markdown",
   "metadata": {},
   "source": [
    "**O Processo de modulação explora os três parâmetros da portadora senoide: ** <br>\n",
    "_Amplitude, frequência e fase_ <br>\n",
    "Leia mais sobre modulação [aqui](https://pt.wikipedia.org/wiki/Modula%C3%A7%C3%A3o_em_amplitude)\n",
    "![fig_figura](https://upload.wikimedia.org/wikipedia/commons/thumb/d/d5/Amplitude-modulation.png/250px-Amplitude-modulation.png)\n"
   ]
  },
  {
   "cell_type": "code",
   "execution_count": 1,
   "metadata": {
    "collapsed": false
   },
   "outputs": [
    {
     "name": "stdout",
     "output_type": "stream",
     "text": [
      "Digite o valor da primeira variável: 15\n",
      "Digite o valor da segunda veriável: 22\n",
      "A soma das variáveis é  37\n"
     ]
    }
   ],
   "source": [
    "a=int(input(\"Digite o valor da primeira variável: \"))\n",
    "b=int(input(\"Digite o valor da segunda veriável: \"))\n",
    "print(\"A soma das variáveis é \", a+b)"
   ]
  },
  {
   "cell_type": "raw",
   "metadata": {},
   "source": [
    "Testando o que é Raw NBConvert"
   ]
  },
  {
   "cell_type": "code",
   "execution_count": null,
   "metadata": {
    "collapsed": true
   },
   "outputs": [],
   "source": []
  }
 ],
 "metadata": {
  "kernelspec": {
   "display_name": "Python 3",
   "language": "python",
   "name": "python3"
  },
  "language_info": {
   "codemirror_mode": {
    "name": "ipython",
    "version": 3
   },
   "file_extension": ".py",
   "mimetype": "text/x-python",
   "name": "python",
   "nbconvert_exporter": "python",
   "pygments_lexer": "ipython3",
   "version": "3.4.5"
  }
 },
 "nbformat": 4,
 "nbformat_minor": 2
}
