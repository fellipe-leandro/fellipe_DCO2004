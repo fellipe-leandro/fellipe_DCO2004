{
 "cells": [
  {
   "cell_type": "markdown",
   "metadata": {},
   "source": [
    "# Criação de uma GUI de Piano usando a ferramenta GUIDE do MatLab"
   ]
  },
  {
   "cell_type": "markdown",
   "metadata": {},
   "source": [
    "## Criação de um piano com oito teclas correspondendo a tons senoidais\n",
    "Além da reprodução da notas, ao clicar nas teclas (botões), devia ser plotada a senoide correspondente. Para cada nota foi implementada uma função de CallBack, que executa a cada interação com a tecla. Um exemplo de CallBack é mostrado abaixo:"
   ]
  },
  {
   "cell_type": "markdown",
   "metadata": {},
   "source": [
    "``` matlab\n",
    "function nota_Do_Callback(hObject, eventdata, handles) %Reprodução da nota Do\n",
    "% hObject    handle to nota_Do (see GCBO)\n",
    "% eventdata  reserved - to be defined in a future version of MATLAB\n",
    "% handles    structure with handles and user data (see GUIDATA)\n",
    "    axes(handles.Plot_Nota);\n",
    "    y=1*cos(2*pi*handles.fc*handles.tempo);\n",
    "    p = audioplayer(y, handles.fs);   % Reproduzir o sinal gerado\n",
    "    play(p);\n",
    "    pause(handles.tf);\n",
    "    plot(handles.tempo,y);\n",
    "    axis([0 0.02 -2 2 ]);     % Zoom para melhor visualização\n",
    "    \n",
    "    \n",
    "% --- Executes on button press in Nota_Re.\n",
    "function Nota_Re_Callback(hObject, eventdata, handles)\n",
    "% hObject    handle to Nota_Re (see GCBO)\n",
    "% eventdata  reserved - to be defined in a future version of MATLAB\n",
    "% handles    structure with handles and user data (see GUIDATA)\n",
    "axes(handles.Plot_Nota);\n",
    "    y=1*cos(2*(9/8)*pi*handles.fc*handles.tempo);\n",
    "    p = audioplayer(y, handles.fs);   % Reproduzir o sinal gerado\n",
    "    play(p);\n",
    "    pause(handles.tf);\n",
    "    plot(handles.tempo,y);\n",
    "    axis([0 0.02 -2 2 ]);     % Zoom para melhor visualização\n",
    "\n",
    "\n",
    "```"
   ]
  },
  {
   "cell_type": "markdown",
   "metadata": {},
   "source": [
    "É possível observar o uso do recurso ** handles.object ** para acessar variáveis que foram declaradas e inicializadas em um escopo fora do Callback"
   ]
  },
  {
   "cell_type": "markdown",
   "metadata": {},
   "source": [
    "A figura a seguir mostra a interface gráfica implementada, com as teclas (botões) e a área de plotagem gráfica\n",
    "![Piano](../figs/h02/piano.png)"
   ]
  },
  {
   "cell_type": "code",
   "execution_count": null,
   "metadata": {
    "collapsed": true
   },
   "outputs": [],
   "source": [
    "\n"
   ]
  }
 ],
 "metadata": {
  "kernelspec": {
   "display_name": "Matlab",
   "language": "matlab",
   "name": "matlab"
  },
  "language_info": {
   "codemirror_mode": "octave",
   "file_extension": ".m",
   "help_links": [
    {
     "text": "MetaKernel Magics",
     "url": "https://github.com/calysto/metakernel/blob/master/metakernel/magics/README.md"
    }
   ],
   "mimetype": "text/x-octave",
   "name": "matlab",
   "version": "0.16.1"
  }
 },
 "nbformat": 4,
 "nbformat_minor": 2
}
