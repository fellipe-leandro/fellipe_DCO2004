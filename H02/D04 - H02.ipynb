{
 "cells": [
  {
   "cell_type": "markdown",
   "metadata": {},
   "source": [
    "# Uso da função  sound(⋅)  no lugar da função audioplayer() e play()"
   ]
  },
  {
   "cell_type": "code",
   "execution_count": 1,
   "metadata": {
    "collapsed": true
   },
   "outputs": [],
   "source": [
    "%Ao invés de usar play, usa o comando sound\n",
    "clear all;clc;close all;\n",
    "tf = 0.3;                                     % Duração de cada tom\n",
    "% Diconário de notas musicais\n",
    "% Do = 1; Ré = 2; Mi = 3; Fá = 4; Sol = 5; Lá = 6; Si = 7; Silêncio = 0\n",
    "% Vetor de \"música\", usando o dicionário de notas pré-definido\n",
    "vtmusic = [1 2 3 4 0 4 4 0 1 2 1 2 0 2 2 0 1 5 4 3 0 3 3 0 1 2 3 4 0 4 4];\n",
    "fdo = 512;                                    % Frequência da nota Dó (Hz)\n",
    "vtTom2Freq = [1 9/8 5/4 4/3 3/2 5/3 15/8 2];  % Relação de frequências entre as notas musicais\n",
    "for iplay = vtmusic                           % Loop de geração e reprodução da música \n",
    "    if iplay == 0                             % Implementação do silêncio\n",
    "        pause(tf);\n",
    "    else\n",
    "        fs = vtTom2Freq(iplay)*fdo;           % Escolhe a frequência do tom corrente\n",
    "        fa = 100*fs;                          % Escolhe a frequência de amostragem do tom corrente\n",
    "        t = 0:1/fa:tf;                        % Gera o eixo do tempo para o tom corrente\n",
    "        y=cos(2*pi*fs*t)+0.8*cos(2*pi*0.01*fs*t)+0.8*cos(-2*pi*0.01*fs*t);  \n",
    "        sound(y, fa);\n",
    "        pause(tf);                            % Pausa com a duração do som a ser escutado (antes de tocar o próximo tom)\n",
    "    end\n",
    "end"
   ]
  },
  {
   "cell_type": "markdown",
   "metadata": {},
   "source": [
    "Temos a reprodução da famosa música Dó Ré Mi Fá"
   ]
  },
  {
   "cell_type": "code",
   "execution_count": null,
   "metadata": {
    "collapsed": true
   },
   "outputs": [],
   "source": []
  }
 ],
 "metadata": {
  "kernelspec": {
   "display_name": "Matlab",
   "language": "matlab",
   "name": "matlab"
  },
  "language_info": {
   "codemirror_mode": "octave",
   "file_extension": ".m",
   "help_links": [
    {
     "text": "MetaKernel Magics",
     "url": "https://github.com/calysto/metakernel/blob/master/metakernel/magics/README.md"
    }
   ],
   "mimetype": "text/x-matlab",
   "name": "matlab",
   "version": "0.14.3"
  }
 },
 "nbformat": 4,
 "nbformat_minor": 2
}
