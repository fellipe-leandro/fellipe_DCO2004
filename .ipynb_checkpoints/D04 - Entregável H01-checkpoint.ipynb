{
 "cells": [
  {
   "cell_type": "markdown",
   "metadata": {},
   "source": [
    "# Tempo de execução com uso de laço e com operação matricial_no Python, incluindo um terceiro roteador a 50% da dimensão vertical e a 80% da dimensão horizontal"
   ]
  },
  {
   "cell_type": "code",
   "execution_count": 1,
   "metadata": {
    "collapsed": true
   },
   "outputs": [],
   "source": [
    "clear all;clc;close all;\n",
    "dPasso = 5;\n",
    "dDim = 5000;\n",
    "nl = (dDim-2*dPasso)/dPasso + 1;"
   ]
  },
  {
   "cell_type": "markdown",
   "metadata": {},
   "source": [
    "## Código COM Laço FOR"
   ]
  },
  {
   "cell_type": "code",
   "execution_count": 4,
   "metadata": {
    "collapsed": true
   },
   "outputs": [],
   "source": [
    "%% Código com laço FOR\n",
    "% Abre contador de tempo\n",
    "t1 = tic;\n",
    "% Matriz com posição de cada ponto do grid (posição relativa ao canto inferior direito)\n",
    "for il = 1:nl \n",
    "    for ic = 1:nl\n",
    "        px(il,ic) = dPasso + (ic-1)*dPasso;\n",
    "        py(ic,il) = px(il,ic);\n",
    "    end\n",
    "end\n",
    "% Matrizes de posição e potência recebida\n",
    "for il = 1:nl\n",
    "    for ic = 1:nl\n",
    "        % Matrizes com posição de cada ponto do grid relativa a cada\n",
    "        % roteador\n",
    "        pbs0(il,ic) = px(il,ic) + j*py(il,ic) - ( dDim/2 + 0.8*dDim*j);\n",
    "        pbs1(il,ic) = px(il,ic) + j*py(il,ic) - ( dDim/2 + 0.2*dDim*j);\n",
    "        pbs2(il,ic) = px(il,ic) + j*py(il,ic) - ( dDim*0.8 + 0.5*dDim*j);\n",
    "        % Cálculo da potência recebida em cada ponto do grid, recebida de cada roteador\n",
    "        pl0(il,ic) = 10*log10(1/abs(pbs0(il,ic))^4/1e-3);\n",
    "        pl1(il,ic) = 10*log10(1/abs(pbs1(il,ic))^4/1e-3);\n",
    "        pl2(il,ic) = 10*log10(1/abs(pbs2(il,ic))^4/1e-3);\n",
    "        % cálculo da melhor potência em cada ponto do grid\n",
    "        plf(il,ic) = max(pl0(il,ic), pl1(il,ic));\n",
    "        plf(il,ic) = max(plf(il,ic),pl2(il,ic));\n",
    "    end\n",
    "end\n",
    "% fecha contador de tempo.\n",
    "tempoComFor = toc(t1);"
   ]
  },
  {
   "cell_type": "markdown",
   "metadata": {},
   "source": [
    "### Tempo de execução COM laço:"
   ]
  },
  {
   "cell_type": "code",
   "execution_count": 5,
   "metadata": {
    "collapsed": false
   },
   "outputs": [
    {
     "name": "stdout",
     "output_type": "stream",
     "text": [
      "Tempo com Laço FOR = 37.9447\n"
     ]
    }
   ],
   "source": [
    "disp(['Tempo com Laço FOR = ' num2str(tempoComFor)]);"
   ]
  },
  {
   "cell_type": "markdown",
   "metadata": {},
   "source": [
    "## Código SEM Laço FOR"
   ]
  },
  {
   "cell_type": "code",
   "execution_count": 7,
   "metadata": {
    "collapsed": false
   },
   "outputs": [],
   "source": [
    "%% Código sem Laço\n",
    "% Abre contador de tempo\n",
    "t2 = tic;\n",
    "% Matriz com posição de cada ponto do grid (posição relativa ao canto inferior direito)\n",
    "[px,py] = meshgrid(dPasso:dPasso:dDim-dPasso, dPasso:dPasso:dDim-dPasso);\n",
    "% Matrizes com posição de cada ponto do grid relativa a cada BS\n",
    "pbs0SF = px + j*py - ( dDim/2 + 0.8*dDim*j);\n",
    "pbs1SF = px + j*py - ( dDim/2 + 0.2*dDim*j);\n",
    "pbs2SF = px + j*py - ( dDim*0.8 + 0.5*dDim*j);\n",
    "% Cálculo da potência recebida em cada roteador\n",
    "pl0SF = 10*log10(1./(abs(pbs0SF).^4)/1e-3);\n",
    "pl1SF = 10*log10(1./(abs(pbs1SF).^4)/1e-3);\n",
    "pl2SF = 10*log10(1./(abs(pbs2SF).^4)/1e-3);\n",
    "% Cálculo da melhor potência e cada ponto do grid\n",
    "plfSF = max(pl0SF,pl1SF);\n",
    "plfSF = max(plfSF,pl2SF);\n",
    "% fecha contador de tempo 2.\n",
    "tempoSemFor = toc(t2);"
   ]
  },
  {
   "cell_type": "markdown",
   "metadata": {},
   "source": [
    "### Tempo de execução SEM Laço:"
   ]
  },
  {
   "cell_type": "code",
   "execution_count": 8,
   "metadata": {
    "collapsed": false
   },
   "outputs": [
    {
     "name": "stdout",
     "output_type": "stream",
     "text": [
      "Tempo sem Laço FOR = 0.42856\n",
      "Diferença percentual de tempo = -8753.9497 %\n"
     ]
    }
   ],
   "source": [
    "disp(['Tempo sem Laço FOR = ' num2str(tempoSemFor)]);\n",
    "disp(['Diferença percentual de tempo = ' num2str(( tempoSemFor - tempoComFor )/tempoSemFor*100) ' %']);"
   ]
  },
  {
   "cell_type": "code",
   "execution_count": null,
   "metadata": {
    "collapsed": true
   },
   "outputs": [],
   "source": []
  }
 ],
 "metadata": {
  "kernelspec": {
   "display_name": "Matlab",
   "language": "matlab",
   "name": "matlab"
  },
  "language_info": {
   "codemirror_mode": "octave",
   "file_extension": ".m",
   "help_links": [
    {
     "text": "MetaKernel Magics",
     "url": "https://github.com/calysto/metakernel/blob/master/metakernel/magics/README.md"
    }
   ],
   "mimetype": "text/x-octave",
   "name": "matlab",
   "version": "0.16.1"
  }
 },
 "nbformat": 4,
 "nbformat_minor": 2
}
