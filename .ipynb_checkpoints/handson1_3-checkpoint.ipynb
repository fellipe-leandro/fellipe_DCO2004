{
 "cells": [
  {
   "cell_type": "markdown",
   "metadata": {},
   "source": [
    "# Matlab - Tipos de variáveis"
   ]
  },
  {
   "cell_type": "code",
   "execution_count": 2,
   "metadata": {},
   "outputs": [
    {
     "name": "stdout",
     "output_type": "stream",
     "text": [
      "O valor máximo de s é 1\n",
      "O valor máximo de z é 2\n"
     ]
    }
   ],
   "source": [
    "clear all;\n",
    "t = 1:10;\n",
    "f = 10;\n",
    "s = cos(2*pi*f*t);\n",
    "z = s + cos(2*pi*0.5*f*t);\n",
    "chDisplays = ['O valor máximo de s é ' num2str(max(s))];\n",
    "disp(chDisplays);\n",
    "chDisplayz = ['O valor máximo de z é ' num2str(max(z))];\n",
    "disp(chDisplayz);"
   ]
  },
  {
   "cell_type": "code",
   "execution_count": 3,
   "metadata": {},
   "outputs": [
    {
     "name": "stdout",
     "output_type": "stream",
     "text": [
      "  Name            Size            Bytes  Class     Attributes\n",
      "\n",
      "  chDisplays      1x23               46  char                \n",
      "  chDisplayz      1x23               46  char                \n",
      "  f               1x1                 8  double              \n",
      "  s               1x10               80  double              \n",
      "  t               1x10               80  double              \n",
      "  z               1x10               80  double              \n",
      "\n"
     ]
    }
   ],
   "source": [
    "whos"
   ]
  },
  {
   "cell_type": "markdown",
   "metadata": {},
   "source": [
    "## Nessa subseção, trabalhando tipos numéricos:\n",
    "Numeric classes in MATLAB® include signed and unsigned integers, and single-precision and double-precision floating-point numbers. By default, MATLAB stores all numeric values as double-precision floating point. (You cannot change the default type and precision.) You can choose to store any number, or array of numbers, as integers or as single-precision. Integer and single precision arrays offer more memory-efficient storage than double precision."
   ]
  },
  {
   "cell_type": "code",
   "execution_count": 6,
   "metadata": {
    "collapsed": true
   },
   "outputs": [],
   "source": [
    "y=single(10);\n",
    "y1=int8(10);\n",
    "y2=uint8(10);\n"
   ]
  },
  {
   "cell_type": "markdown",
   "metadata": {},
   "source": [
    "## Nessa subseção, trabalhando chars e strings\n",
    "Character arrays and string arrays provide storage for text data in MATLAB®."
   ]
  },
  {
   "cell_type": "code",
   "execution_count": 15,
   "metadata": {},
   "outputs": [
    {
     "name": "stdout",
     "output_type": "stream",
     "text": [
      "  Name            Size            Bytes  Class     Attributes\n",
      "\n",
      "  c               1x1                 2  char                \n",
      "  c_string        1x2                 4  char                \n",
      "  chDisplays      1x23               46  char                \n",
      "  chDisplayz      1x23               46  char                \n",
      "  f               1x1                 8  double              \n",
      "  s               1x10               80  double              \n",
      "  t               1x10               80  double              \n",
      "  y               1x1                 4  single              \n",
      "  y1              1x1                 1  int8                \n",
      "  y2              1x1                 1  uint8               \n",
      "  z               1x10               80  double              \n",
      "\n"
     ]
    }
   ],
   "source": [
    "c='o';\n",
    "c_string='oi';\n",
    "whos\n",
    "\n"
   ]
  },
  {
   "cell_type": "markdown",
   "metadata": {},
   "source": [
    "Pode-se ver que um char no Matlab ocupa 2 bytes (16 bits). A variável _y_, do tipo single, tem 4 bytes (32 bits). Uma variável do tipo double tem 8 bytes (64 bits)"
   ]
  },
  {
   "cell_type": "markdown",
   "metadata": {},
   "source": [
    "## Trabalhando com Tables\n",
    "table is a data type suitable for column-oriented or tabular data that is often stored as columns in a text file or in a spreadsheet. Tables consist of rows and column-oriented variables. Each variable in a table can have a different data type and a different size with the one restriction that each variable must have the same number of rows"
   ]
  },
  {
   "cell_type": "code",
   "execution_count": 16,
   "metadata": {},
   "outputs": [
    {
     "name": "stdout",
     "output_type": "stream",
     "text": [
      "\n",
      "T = \n",
      "\n",
      "    Var1    Var2    Var3\n",
      "    ____    ____    ____\n",
      "\n",
      "    1       2       3   \n",
      "\n"
     ]
    }
   ],
   "source": [
    "T=table(1, 2,3)"
   ]
  },
  {
   "cell_type": "code",
   "execution_count": 18,
   "metadata": {
    "scrolled": true
   },
   "outputs": [
    {
     "name": "stdout",
     "output_type": "stream",
     "text": [
      "  Name            Size            Bytes  Class     Attributes\n",
      "\n",
      "  T               1x3              1974  table               \n",
      "  c               1x1                 2  char                \n",
      "  c_string        1x2                 4  char                \n",
      "  chDisplays      1x23               46  char                \n",
      "  chDisplayz      1x23               46  char                \n",
      "  f               1x1                 8  double              \n",
      "  s               1x10               80  double              \n",
      "  t               1x10               80  double              \n",
      "  y               1x1                 4  single              \n",
      "  y1              1x1                 1  int8                \n",
      "  y2              1x1                 1  uint8               \n",
      "  z               1x10               80  double              \n",
      "\n"
     ]
    }
   ],
   "source": [
    "whos\n"
   ]
  },
  {
   "cell_type": "markdown",
   "metadata": {},
   "source": [
    "## Trabalhando com structs\n",
    "A structure array is a data type that groups related data using data containers called fields. Each field can contain any type of data. Access data in a structure using dot notation of the form structName.fieldName"
   ]
  },
  {
   "cell_type": "code",
   "execution_count": 21,
   "metadata": {},
   "outputs": [
    {
     "name": "stdout",
     "output_type": "stream",
     "text": [
      "\n",
      "my_s = \n",
      "\n",
      "    a: 1\n",
      "    b: 'Campo de texto'\n",
      "\n"
     ]
    }
   ],
   "source": [
    "my_s.a=1;\n",
    "my_s.b='Campo de texto'"
   ]
  },
  {
   "cell_type": "code",
   "execution_count": 22,
   "metadata": {},
   "outputs": [
    {
     "name": "stdout",
     "output_type": "stream",
     "text": [
      "  Name            Size            Bytes  Class     Attributes\n",
      "\n",
      "  T               1x3              1974  table               \n",
      "  c               1x1                 2  char                \n",
      "  c_string        1x2                 4  char                \n",
      "  chDisplays      1x23               46  char                \n",
      "  chDisplayz      1x23               46  char                \n",
      "  f               1x1                 8  double              \n",
      "  my_s            1x1               388  struct              \n",
      "  s               1x1               388  struct              \n",
      "  t               1x10               80  double              \n",
      "  y               1x1                 4  single              \n",
      "  y1              1x1                 1  int8                \n",
      "  y2              1x1                 1  uint8               \n",
      "  z               1x10               80  double              \n",
      "\n"
     ]
    }
   ],
   "source": [
    "whos\n"
   ]
  },
  {
   "cell_type": "code",
   "execution_count": null,
   "metadata": {
    "collapsed": true
   },
   "outputs": [],
   "source": []
  }
 ],
 "metadata": {
  "kernelspec": {
   "display_name": "Matlab",
   "language": "matlab",
   "name": "matlab"
  },
  "language_info": {
   "codemirror_mode": "octave",
   "file_extension": ".m",
   "help_links": [
    {
     "text": "MetaKernel Magics",
     "url": "https://github.com/calysto/metakernel/blob/master/metakernel/magics/README.md"
    }
   ],
   "mimetype": "text/x-matlab",
   "name": "matlab",
   "version": "0.14.3"
  }
 },
 "nbformat": 4,
 "nbformat_minor": 2
}
