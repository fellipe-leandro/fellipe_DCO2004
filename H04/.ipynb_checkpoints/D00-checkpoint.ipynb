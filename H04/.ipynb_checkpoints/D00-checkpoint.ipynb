{
 "cells": [
  {
   "cell_type": "markdown",
   "metadata": {},
   "source": [
    "# Entregável Hands-On 04"
   ]
  },
  {
   "cell_type": "markdown",
   "metadata": {},
   "source": [
    "## Periodograma:"
   ]
  },
  {
   "cell_type": "markdown",
   "metadata": {},
   "source": [
    "__Segundo a documentação do Matlab: O periodograma é uma estimação não-paramétrica de PSD de um processo estacionário aleatório. Consiste na DFT de uma estimativa com *bias* da sequencia de autocorrelação do sinal.__\n",
    "A função foi chamada com os seguintes parâmetros *periodogram(x,hamming(length(x)),length(x),Fs,'power');*, onde:\n",
    "* *x* é o sinal de entrada;\n",
    "* *hamming(length(x)* é  o tipo de janelamento utilizado\n",
    "* *length(x)* explicita o numero de pontos da DFT\n",
    "* *Fs* consiste na frequência de amostragem e permite o retorno pela função do vetor de frequências;\n",
    "* *power* solicita o retorno do espectro de potência."
   ]
  },
  {
   "cell_type": "code",
   "execution_count": 1,
   "metadata": {
    "collapsed": false
   },
   "outputs": [
    {
     "name": "stdout",
     "output_type": "stream",
     "text": [
      " PERIODOGRAM  Power Spectral Density (PSD) estimate via periodogram method.\n",
      "    Pxx = PERIODOGRAM(X) returns the PSD estimate, Pxx, of a signal, X.\n",
      "    When X is a vector, it is converted to a column vector and treated as a\n",
      "    single channel.  When X is a matrix, the PSD is computed independently\n",
      "    for each column and stored in the corresponding column of Pxx.\n",
      "   \n",
      "    By default, the signal X is windowed with a rectangular window of the\n",
      "    same length as X. The PSD estimate is computed using an FFT of length\n",
      "    given by the larger of 256 and the next power of 2 greater than the\n",
      "    length of X.\n",
      " \n",
      "    Note that the default window (rectangular) has a 13.3 dB sidelobe\n",
      "    attenuation. This may mask spectral content below this value (relative\n",
      "    to the peak spectral content). Choosing different windows will enable\n",
      "    you to make tradeoffs between resolution (e.g., using a rectangular\n",
      "    window) and sidelobe attenuation (e.g., using a Hann window). See\n",
      "    WinTool for more details.\n",
      " \n",
      "    Pxx is the distribution of power per unit frequency. For real signals,\n",
      "    PERIODOGRAM returns the one-sided PSD by default; for complex signals,\n",
      "    it returns the two-sided PSD.  Note that a one-sided PSD contains the\n",
      "    total power of the input signal.\n",
      " \n",
      "    Pxx = PERIODOGRAM(X,WINDOW) specifies a window to be applied to X. If X\n",
      "    is a vector, WINDOW must be a vector of the same length as X.  If X is\n",
      "    a matrix, WINDOW must be a vector whose length is the same as the\n",
      "    number of rows of X.  If WINDOW is a window other than a rectangular,\n",
      "    the resulting estimate is a modified periodogram. If WINDOW is\n",
      "    specified as empty, the default window is used.\n",
      " \n",
      "    Pxx = PERIODOGRAM(X,WINDOW,...,SPECTRUMTYPE) uses the window scaling\n",
      "    algorithm specified by SPECTRUMTYPE when computing the power spectrum:\n",
      "      'psd'   - returns the power spectral density\n",
      "      'power' - scales each estimate of the PSD by the equivalent noise\n",
      "                bandwidth (in Hz) of the window.  Use this option to\n",
      "                obtain an estimate of the power at each frequency.\n",
      "    The default value for SPECTRUMTYPE is 'psd'\n",
      " \n",
      "    [Pxx,W] = PERIODOGRAM(X,WINDOW,NFFT) specifies the number of FFT points\n",
      "    used to calculate the PSD estimate.  For real X, Pxx has length\n",
      "    (NFFT/2+1) if NFFT is even, and (NFFT+1)/2 if NFFT is odd.  For complex\n",
      "    X, Pxx always has length NFFT.  If NFFT is specified as empty, the\n",
      "    default NFFT is used.\n",
      " \n",
      "    Note that if NFFT is greater than the length of WINDOW, the data is\n",
      "    zero-padded. If NFFT is less than the length of WINDOW, the segment is\n",
      "    \"wrapped\" (using DATAWRAP) to make the length equal to NFFT to produce\n",
      "    the correct FFT.\n",
      " \n",
      "    W is the vector of normalized frequencies at which the PSD is\n",
      "    estimated.  W has units of radians/sample.  For real signals, W spans\n",
      "    the interval [0,pi] when NFFT is even and [0,pi) when NFFT is odd.  For\n",
      "    complex signals, W always spans the interval [0,2*pi).\n",
      " \n",
      "    [Pxx,W] = PERIODOGRAM(X,WINDOW,W) computes the two-sided PSD at the\n",
      "    normalized angular frequencies contained in the vector W. W must have\n",
      "    at least two elements.\n",
      " \n",
      "    [Pxx,F] = PERIODOGRAM(X,WINDOW,NFFT,Fs) returns a PSD computed as\n",
      "    a function of physical frequency.  Fs is the sampling frequency\n",
      "    specified in hertz.  If Fs is empty, it defaults to 1 Hz.\n",
      " \n",
      "    F is the vector of frequencies (in hertz) at which the PSD is\n",
      "    estimated.  For real signals, F spans the interval [0,Fs/2] when NFFT\n",
      "    is even and [0,Fs/2) when NFFT is odd.  For complex signals, F always\n",
      "    spans the interval [0,Fs).\n",
      " \n",
      "    [Pxx,F] = PERIODOGRAM(X,WINDOW,F,Fs) computes the two-sided PSD at the \n",
      "    frequencies contained in vector F. F must contain at least two elements\n",
      "    and be expressed in units of hertz.\n",
      " \n",
      "    [...] = PERIODOGRAM(X,WINDOW,NFFT,...,FREQRANGE) returns the PSD\n",
      "    over the specified range of frequencies based upon the value of\n",
      "    FREQRANGE:\n",
      " \n",
      "       'onesided' - returns the one-sided PSD of a real input signal X.\n",
      "          If NFFT is even, Pxx has length NFFT/2+1 and is computed over the\n",
      "          interval [0,pi].  If NFFT is odd, Pxx has length (NFFT+1)/2 and\n",
      "          is computed over the interval [0,pi). When Fs is specified, the\n",
      "          intervals become [0,Fs/2) and [0,Fs/2] for even and odd NFFT,\n",
      "          respectively.\n",
      " \n",
      "       'twosided' - returns the two-sided PSD for either real or complex\n",
      "          input X.  Pxx has length NFFT and is computed over the interval\n",
      "          [0,2*pi). When Fs is specified, the interval becomes [0,Fs).\n",
      " \n",
      "       'centered' - returns the centered two-sided PSD for either real or\n",
      "          complex X.  Pxx has length NFFT and is computed over the interval\n",
      "          (-pi, pi] for even length NFFT and (-pi, pi) for odd length NFFT.\n",
      "          When Fs is specified, the intervals become (-Fs/2, Fs/2] and\n",
      "          (-Fs/2, Fs/2) for even and odd NFFT, respectively.\n",
      " \n",
      "       FREQRANGE may be placed in any position in the input argument list\n",
      "       after WINDOW.  The default value of FREQRANGE is 'onesided' when X\n",
      "       is real and 'twosided' when X is complex.\n",
      " \n",
      "    [Pxx,F,Pxxc] = PERIODOGRAM(...,'ConfidenceLevel',P) , where P is a\n",
      "    scalar between 0 and 1, returns the P*100% confidence interval for Pxx.\n",
      "    The default value for P is .95.  Confidence intervals are computed\n",
      "    using a chi-squared approach.  Pxxc has twice as many columns as Pxx.\n",
      "    Odd-numbered columns contain the lower bounds of the confidence\n",
      "    intervals; even-numbered columns contain the upper bounds.  Thus,\n",
      "    Pxxc(M,2*N-1) is the lower bound and Pxxc(M,2*N) is the upper bound\n",
      "    corresponding to the estimate Pxx(M,N).\n",
      " \n",
      "    PERIODOGRAM(...) with no output arguments by default plots the PSD\n",
      "    estimate (in decibels per unit frequency) in the current figure window.\n",
      " \n",
      "    EXAMPLE:\n",
      "       % Compute the two-sided periodogram of a 200 Hz sinusoid embedded\n",
      "       % in noise using the hamming window.\n",
      "       Fs = 1000;   t = 0:1/Fs:.3;\n",
      "       x = cos(2*pi*t*200)+randn(size(t));\n",
      "       periodogram(x,[],'twosided',512,Fs);\n",
      " \n",
      "    See also PWELCH, PBURG, PCOV, PYULEAR, PMTM, PMUSIC, PMCOV, PEIG.\n",
      "\n",
      "    Reference page in Help browser\n",
      "       doc periodogram\n",
      "\n"
     ]
    }
   ],
   "source": [
    "help periodogram\n"
   ]
  },
  {
   "cell_type": "code",
   "execution_count": 2,
   "metadata": {
    "collapsed": false
   },
   "outputs": [
    {
     "data": {
      "image/png": "[encoded data removed]",
      "text/plain": [
       "<IPython.core.display.Image object>"
      ]
     },
     "metadata": {},
     "output_type": "display_data"
    }
   ],
   "source": [
    " % Compute the two-sided periodogram of a 200 Hz sinusoid embedded\n",
    "       % in noise using the hamming window.\n",
    "       Fs = 1000;   t = 0:1/Fs:.3;\n",
    "       x = cos(2*pi*t*200)+randn(size(t));\n",
    "       periodogram(x,[],'twosided',512,Fs);"
   ]
  },
  {
   "cell_type": "code",
   "execution_count": null,
   "metadata": {
    "collapsed": true
   },
   "outputs": [],
   "source": []
  }
 ],
 "metadata": {
  "kernelspec": {
   "display_name": "Matlab",
   "language": "matlab",
   "name": "matlab"
  },
  "language_info": {
   "codemirror_mode": "octave",
   "file_extension": ".m",
   "help_links": [
    {
     "text": "MetaKernel Magics",
     "url": "https://github.com/calysto/metakernel/blob/master/metakernel/magics/README.md"
    }
   ],
   "mimetype": "text/x-octave",
   "name": "matlab",
   "version": "0.16.1"
  }
 },
 "nbformat": 4,
 "nbformat_minor": 2
}
