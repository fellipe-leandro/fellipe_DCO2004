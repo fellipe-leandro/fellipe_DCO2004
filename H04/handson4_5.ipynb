{
 "cells": [
  {
   "cell_type": "markdown",
   "metadata": {},
   "source": [
    "# Filtragem de Eco"
   ]
  },
  {
   "cell_type": "code",
   "execution_count": 1,
   "metadata": {
    "collapsed": true
   },
   "outputs": [],
   "source": [
    "clc;clear all; close all;\n",
    "%% Abrindo o guitar.wav - Definições de parâmetros \n",
    "[y,fs]=  audioread('../../DCO2004_2019/MATERIAL/HD_02_MATLAB/sound_01.wav');    % Endereço do nosso sinal\n",
    "timelag = 0.5;                                                  % Atraso do eco\n",
    "delta = round(fs*timelag);                                      % Inteiro correspondente a posição do eco\n",
    "alfa = 0.5;                                                     % Define a amplitude do eco \"alfa\" \n"
   ]
  },
  {
   "cell_type": "code",
   "execution_count": 2,
   "metadata": {
    "collapsed": true
   },
   "outputs": [],
   "source": [
    "%% Montagem do eco\n",
    "orig = [y;zeros(delta,1)];                                      % Completa o final do vetor y com zeros\n",
    "eco = [zeros(delta,1);y]*alfa;                                  % Completa o início do vetor eco com zeros\n",
    "Yeco = orig + eco;                                              % Soma som original com o eco\n",
    "t = (0:length(Yeco)-1)/fs;                                      % Definiçao do eixo do tempo com o comprimento do novo vetor Yeco"
   ]
  },
  {
   "cell_type": "code",
   "execution_count": 4,
   "metadata": {
    "collapsed": false
   },
   "outputs": [],
   "source": [
    "%% Cálculo do vetor autocorrelação positivo\n",
    "[Rxx,lags] = xcorr(Yeco,'unbiased');                            % Calcula a autocorrelação normalizada com o comprimento \n",
    "Rxx = Rxx(lags>0);                                              % Pega apenas a parte positiva do vetor Rxx\n",
    "lags = lags(lags>0);                                            % Pega apenas a parte positiva do vetor lags"
   ]
  },
  {
   "cell_type": "code",
   "execution_count": 5,
   "metadata": {
    "collapsed": true
   },
   "outputs": [],
   "source": [
    "[~,dl] = findpeaks(Rxx,lags,'MinPeakHeight',1.5e-3);            % Encontra picos num intervalo minimo entre eles de 2x10-3\n",
    "newdelta= max(dl)-1;                                            % Novo delta (vetor local de eco)\n",
    "Ynew = filter(1,[1 zeros(1,newdelta-1) alfa],Yeco);             % Filtra no vetor Yeco a partir da posição newdelta o eco"
   ]
  },
  {
   "cell_type": "code",
   "execution_count": null,
   "metadata": {
    "collapsed": true
   },
   "outputs": [],
   "source": []
  }
 ],
 "metadata": {
  "kernelspec": {
   "display_name": "Matlab",
   "language": "matlab",
   "name": "matlab"
  },
  "language_info": {
   "codemirror_mode": "octave",
   "file_extension": ".m",
   "help_links": [
    {
     "text": "MetaKernel Magics",
     "url": "https://github.com/calysto/metakernel/blob/master/metakernel/magics/README.md"
    }
   ],
   "mimetype": "text/x-octave",
   "name": "matlab",
   "version": "0.16.1"
  }
 },
 "nbformat": 4,
 "nbformat_minor": 2
}
